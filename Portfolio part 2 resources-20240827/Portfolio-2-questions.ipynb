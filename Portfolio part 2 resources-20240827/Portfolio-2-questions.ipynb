{
 "cells": [
  {
   "cell_type": "markdown",
   "id": "rSF_UH-XklO4",
   "metadata": {
    "id": "rSF_UH-XklO4"
   },
   "source": [
    "## Analysis of a Car Sell Dataset Part 2"
   ]
  },
  {
   "cell_type": "markdown",
   "id": "aWJHrXuwklO5",
   "metadata": {
    "id": "aWJHrXuwklO5"
   },
   "source": [
    "There are two goals in the second analysis task: (1), train linear regression models to predict the selling prices of cars; (2) assess the data ethics issues. There are *7* questions in this portfolio. \n",
    "\n",
    "The first goal involves a standard Data Science workflow: exploring data, building models, making predictions, and evaluating results. In this task, we will explore the impacts of feature selections and different sizes of training/testing data on the model performance. We will use another cleaned car_sells sub-dataset that **is different from** the one in “Analysis of a Car Sell Dataset” task 1. This goal covers Questions *1-6*. \n",
    "\n",
    "Question *7* is about data ethics issue."
   ]
  },
  {
   "cell_type": "code",
   "execution_count": 5,
   "id": "f2b11c57",
   "metadata": {},
   "outputs": [],
   "source": [
    "your_name = \"Hatim Hussaini\"\n",
    "your_student_id = \"47807040\""
   ]
  },
  {
   "cell_type": "code",
   "execution_count": 7,
   "id": "0e327626",
   "metadata": {},
   "outputs": [],
   "source": [
    "import pandas as pd\n",
    "import numpy as np\n",
    "from sklearn.model_selection import train_test_split\n",
    "from sklearn import linear_model\n",
    "from sklearn.metrics import r2_score\n",
    "from sklearn.linear_model import LinearRegression\n",
    "from sklearn import datasets\n",
    "from sklearn.metrics import mean_squared_error\n",
    "\n",
    "import seaborn as sns\n",
    "import matplotlib.pylab as plt\n",
    "%matplotlib inline"
   ]
  },
  {
   "cell_type": "markdown",
   "id": "0g4OhHHzklO6",
   "metadata": {
    "id": "0g4OhHHzklO6"
   },
   "source": [
    "### Q1: Import Cleaned Car Sell Dataset\n",
    "The csv file named 'car_sells_clean_data.csv' is provided. You may need to use the Pandas method, i.e., `read_csv`, for reading it. After that, please print out its total length."
   ]
  },
  {
   "cell_type": "code",
   "execution_count": 9,
   "id": "9ki1LBees70W",
   "metadata": {
    "colab": {
     "base_uri": "https://localhost:8080/"
    },
    "id": "9ki1LBees70W",
    "outputId": "d3ff4349-47d0-423b-ef22-caf78c9883f5"
   },
   "outputs": [
    {
     "name": "stdout",
     "output_type": "stream",
     "text": [
      "3657\n",
      "(3657, 8)\n"
     ]
    }
   ],
   "source": [
    "car = pd.read_csv('/Users/hatimhussaini/Downloads/Github Repository/2.portfolio-part-2-hatimhussaini/Portfolio part 2 resources-20240827/car_sells_clean_data.csv')\n",
    "print(len(car))\n",
    "print(car.shape)"
   ]
  },
  {
   "cell_type": "markdown",
   "id": "RpXf1q3UklO7",
   "metadata": {
    "id": "RpXf1q3UklO7"
   },
   "source": [
    "### Q2: Explore the Dataset\n",
    "\n",
    "* Use the methods, i.e., `head()` and `info()`, to have a rough picture about the data, e.g., how many columns, and the data types of each column.\n",
    "* As our goal is to predict cars' selling prices given other columns, please get the correlations between year/km_driven/seller_type/fuel/owner and selling_price by using the `corr()` method.\n",
    "* To get the correlations between different features, you may need to first convert the categorical features (i.e., seller_type and owner) into numerial values. For doing this, you may need to import `OrdinalEncoder` from `sklearn.preprocessing` (refer to the useful exmaples [here](https://pbpython.com/categorical-encoding.html))\n",
    "* Please provide ___necessary explanations/analysis___ on the correlations, and figure out which are the ___most___ and ___least___ corrleated features regarding selling_price. Try to ___discuss___ how the correlation will affect the final prediction results, if we use these features to train a regression model for selling_price prediction. In what follows, we will conduct experiments to verify your hypothesis."
   ]
  },
  {
   "cell_type": "code",
   "execution_count": 11,
   "id": "7551c655",
   "metadata": {},
   "outputs": [
    {
     "name": "stdout",
     "output_type": "stream",
     "text": [
      "<class 'pandas.core.frame.DataFrame'>\n",
      "RangeIndex: 3657 entries, 0 to 3656\n",
      "Data columns (total 8 columns):\n",
      " #   Column         Non-Null Count  Dtype  \n",
      "---  ------         --------------  -----  \n",
      " 0   name           3657 non-null   object \n",
      " 1   year           3657 non-null   float64\n",
      " 2   selling_price  3657 non-null   int64  \n",
      " 3   km_driven      3657 non-null   int64  \n",
      " 4   fuel           3657 non-null   object \n",
      " 5   seller_type    3657 non-null   object \n",
      " 6   transmission   3657 non-null   object \n",
      " 7   owner          3657 non-null   object \n",
      "dtypes: float64(1), int64(2), object(5)\n",
      "memory usage: 228.7+ KB\n"
     ]
    },
    {
     "data": {
      "text/html": [
       "<div>\n",
       "<style scoped>\n",
       "    .dataframe tbody tr th:only-of-type {\n",
       "        vertical-align: middle;\n",
       "    }\n",
       "\n",
       "    .dataframe tbody tr th {\n",
       "        vertical-align: top;\n",
       "    }\n",
       "\n",
       "    .dataframe thead th {\n",
       "        text-align: right;\n",
       "    }\n",
       "</style>\n",
       "<table border=\"1\" class=\"dataframe\">\n",
       "  <thead>\n",
       "    <tr style=\"text-align: right;\">\n",
       "      <th></th>\n",
       "      <th>year</th>\n",
       "      <th>selling_price</th>\n",
       "      <th>km_driven</th>\n",
       "    </tr>\n",
       "  </thead>\n",
       "  <tbody>\n",
       "    <tr>\n",
       "      <th>count</th>\n",
       "      <td>3657.000000</td>\n",
       "      <td>3.657000e+03</td>\n",
       "      <td>3657.000000</td>\n",
       "    </tr>\n",
       "    <tr>\n",
       "      <th>mean</th>\n",
       "      <td>2013.123599</td>\n",
       "      <td>4.945088e+05</td>\n",
       "      <td>66560.660924</td>\n",
       "    </tr>\n",
       "    <tr>\n",
       "      <th>std</th>\n",
       "      <td>4.119128</td>\n",
       "      <td>5.579230e+05</td>\n",
       "      <td>47007.819292</td>\n",
       "    </tr>\n",
       "    <tr>\n",
       "      <th>min</th>\n",
       "      <td>1995.000000</td>\n",
       "      <td>2.000000e+04</td>\n",
       "      <td>1.000000</td>\n",
       "    </tr>\n",
       "    <tr>\n",
       "      <th>25%</th>\n",
       "      <td>2011.000000</td>\n",
       "      <td>2.100000e+05</td>\n",
       "      <td>35000.000000</td>\n",
       "    </tr>\n",
       "    <tr>\n",
       "      <th>50%</th>\n",
       "      <td>2014.000000</td>\n",
       "      <td>3.500000e+05</td>\n",
       "      <td>60000.000000</td>\n",
       "    </tr>\n",
       "    <tr>\n",
       "      <th>75%</th>\n",
       "      <td>2016.000000</td>\n",
       "      <td>6.000000e+05</td>\n",
       "      <td>90000.000000</td>\n",
       "    </tr>\n",
       "    <tr>\n",
       "      <th>max</th>\n",
       "      <td>2020.000000</td>\n",
       "      <td>8.900000e+06</td>\n",
       "      <td>806599.000000</td>\n",
       "    </tr>\n",
       "  </tbody>\n",
       "</table>\n",
       "</div>"
      ],
      "text/plain": [
       "              year  selling_price      km_driven\n",
       "count  3657.000000   3.657000e+03    3657.000000\n",
       "mean   2013.123599   4.945088e+05   66560.660924\n",
       "std       4.119128   5.579230e+05   47007.819292\n",
       "min    1995.000000   2.000000e+04       1.000000\n",
       "25%    2011.000000   2.100000e+05   35000.000000\n",
       "50%    2014.000000   3.500000e+05   60000.000000\n",
       "75%    2016.000000   6.000000e+05   90000.000000\n",
       "max    2020.000000   8.900000e+06  806599.000000"
      ]
     },
     "execution_count": 11,
     "metadata": {},
     "output_type": "execute_result"
    }
   ],
   "source": [
    "car.head()\n",
    "car.info()\n",
    "car.describe()"
   ]
  },
  {
   "cell_type": "code",
   "execution_count": 109,
   "id": "272adf3c-bd82-471a-9f21-c529b6073e9d",
   "metadata": {},
   "outputs": [
    {
     "data": {
      "text/plain": [
       "name            -0.098498\n",
       "year             0.411103\n",
       "selling_price    1.000000\n",
       "km_driven       -0.177203\n",
       "fuel            -0.277627\n",
       "seller_type     -0.208637\n",
       "transmission    -0.522501\n",
       "owner           -0.205524\n",
       "Name: selling_price, dtype: float64"
      ]
     },
     "execution_count": 109,
     "metadata": {},
     "output_type": "execute_result"
    }
   ],
   "source": [
    "from sklearn.preprocessing import OrdinalEncoder\n",
    "\n",
    "ordinal_encoder = OrdinalEncoder()\n",
    "car[['name','fuel','seller_type','transmission','owner']] = ordinal_encoder.fit_transform(\n",
    "    car[['name','fuel','seller_type','transmission','owner']])\n",
    "car.head()\n",
    "\n",
    "corr_car = car.corr()\n",
    "corr_car['selling_price']"
   ]
  },
  {
   "cell_type": "markdown",
   "id": "c8493af1-ba8e-433b-8405-6e8ebefb04cb",
   "metadata": {},
   "source": [
    "#### Analysis:\n",
    "The \"Selling Price\" column's correlation variable with every other column in the dataframe is shown above. Correlation values range from 1 to -1 where a value closer to either end indicate a strong positive (directly proportional relationship) or negative (inversely proportional relationship) correlation. The closer a value is to 0, the weaker the correlation as shown by the correlation between selling price and name of the car at -0.098, signalling virtually no relationship whatsoever.  \n",
    "- **The most correlated feature** to selling price is that of **transmission** with a correlation value of -0.523. This means that cars with different transmission types (automatic vs. manual) have a significant effect on the selling price. In this dataframe, manual transmissions might be associated with higher prices.  \n",
    "- **Year** is a close second in terms of correlation (0.411) with a directly proportional realtionship with selling price suggesting that as newer cars tend to sell for a higher price. This is a perfectly logical conclusion.\n",
    "- On the other hand, **the least correlated feature** (excluding name) is of **km_driven** (-0.177) highlighting that even though there is a slight decrease in selling price when kilomnetre driven increases, its impact pales in comparision to other features.\n",
    "\n",
    "As transmission and year have a strong correlation with selling price, these features will heavily effect a regression model for selling price and will carry the most amount of weight. This is because these variables have relatively larger change when selling price changes.  \n",
    "\n",
    "Alternatively, a regression model for selling price trained on kilometres driven will not contribute much to the prediction and the accuracy of the model will be way off. Even though adding this feature to our prediction model may not harm the performance, it does not make it much better either."
   ]
  },
  {
   "cell_type": "markdown",
   "id": "C3DFUuGXklO_",
   "metadata": {
    "id": "C3DFUuGXklO_"
   },
   "source": [
    "### Q3: Split Training and Testing Data\n",
    "* Machine learning models are trained to help make predictions for the future. Normally, we need to randomly split the dataset into training and testing sets, where we use the training set to train the model, and then leverage the well-trained model to make predictions on the testing set.\n",
    "* To further investigate whether the size of the training/testing data affects the model performance, please randomly split the data into training and testing sets with different sizes:\n",
    "    * Case 1: training data containing 10% of the entire data;\n",
    "    * Case 2: training data containing 90% of the entire data.\n",
    "* Print the shape of training and testing sets in the two cases."
   ]
  },
  {
   "cell_type": "code",
   "execution_count": 114,
   "id": "47f6b5cd",
   "metadata": {},
   "outputs": [
    {
     "name": "stdout",
     "output_type": "stream",
     "text": [
      "(365, 8)\n",
      "(3292, 8)\n"
     ]
    }
   ],
   "source": [
    "train_case_1, test_case_1 = train_test_split(car, test_size=0.9, random_state=142)\n",
    "print(train_case_1.shape)\n",
    "print(test_case_1.shape)"
   ]
  },
  {
   "cell_type": "code",
   "execution_count": 144,
   "id": "296b133f-134c-45cb-9a66-2e86beb50176",
   "metadata": {},
   "outputs": [
    {
     "name": "stdout",
     "output_type": "stream",
     "text": [
      "(3291, 8)\n",
      "(366, 8)\n"
     ]
    }
   ],
   "source": [
    "train_case_2, test_case_2 = train_test_split(car, test_size=0.1, random_state=142)\n",
    "print(train_case_2.shape)\n",
    "print(test_case_2.shape)"
   ]
  },
  {
   "cell_type": "markdown",
   "id": "WiNRCPFoklO_",
   "metadata": {
    "id": "WiNRCPFoklO_"
   },
   "source": [
    "### Q4: Train Linear Regression Models with Feature Selection under Cases 1 & 2\n",
    "* When training a machine learning model for prediction, we may need to select the most important/correlated input features for more accurate results.\n",
    "* To investigate whether feature selection affects the model performance, please select two most correlated features and two least correlated features regarding selling_price, respectively.\n",
    "* Train four linear regression models by following the conditions:\n",
    "    - (model-a) using the training/testing data in case 1 with two most correlated input features\n",
    "    - (model-b) using the training/testing data in case 1 with two least correlated input features\n",
    "    - (model-c) using the training/testing data in case 2 with two most correlated input features\n",
    "    - (model-d) using the training/testing data in case 2 with two least correlated input features\n",
    "* By doing this, we can verify the impacts of the size of traing/testing data on the model performance via comparing model-a and model-c (or model-b and model-d); meanwhile the impacts of feature selection can be validated via comparing model-a and model-b (or model-c and model-d).    "
   ]
  },
  {
   "cell_type": "code",
   "execution_count": 244,
   "id": "7bcd6158",
   "metadata": {},
   "outputs": [
    {
     "name": "stdout",
     "output_type": "stream",
     "text": [
      "y = x1 * -1094599.081070911 + x2 * 52083.56421830386 + -103335111.19052878\n"
     ]
    }
   ],
   "source": [
    "#Model A\n",
    "import math\n",
    "most_correlated = ['transmission', 'year']\n",
    "least_correlated = ['owner','km_driven']\n",
    "\n",
    "model_a = linear_model.LinearRegression()\n",
    "x_train_case_1a= train_case_1[most_correlated]\n",
    "y_train_case_1a = train_case_1['selling_price']\n",
    "x_test_case_1a= test_case_1[most_correlated]\n",
    "y_test_case_1a = test_case_1['selling_price']\n",
    "reg.fit(x_train_case_1a, y_train_case_1a)\n",
    "print(\"y = x1 *\", reg.coef_[0], \"+ x2 *\",reg.coef_[1],\"+\", reg.intercept_)\n",
    "\n",
    "train_case_1a_pred =reg.predict(x_train_case_1a)\n",
    "test_case_1a_pred = reg.predict(x_test_case_1a)\n",
    "\n"
   ]
  },
  {
   "cell_type": "code",
   "execution_count": 246,
   "id": "e664eaa2-0040-4c6e-9f55-1f4d603c31fa",
   "metadata": {},
   "outputs": [
    {
     "name": "stdout",
     "output_type": "stream",
     "text": [
      "y = x1 * -113002.63397763736 + x2 * -2.9985474491552546 + 772525.8919347306\n"
     ]
    }
   ],
   "source": [
    "#Model B\n",
    "model_b = linear_model.LinearRegression()\n",
    "x_train_case_1b= train_case_1[least_correlated]\n",
    "y_train_case_1b = train_case_1['selling_price']\n",
    "x_test_case_1b= test_case_1[least_correlated]\n",
    "y_test_case_1b = test_case_1['selling_price']\n",
    "reg.fit(x_train_case_1b, y_train_case_1b)\n",
    "print(\"y = x1 *\", reg.coef_[0], \"+ x2 *\",reg.coef_[1],\"+\", reg.intercept_)\n",
    "\n",
    "train_case_1b_pred =reg.predict(x_train_case_1b)\n",
    "test_case_1b_pred = reg.predict(x_test_case_1b)\n",
    "\n"
   ]
  },
  {
   "cell_type": "code",
   "execution_count": 248,
   "id": "569a4476-670a-4d82-b61e-3fe2d5b3b851",
   "metadata": {},
   "outputs": [
    {
     "name": "stdout",
     "output_type": "stream",
     "text": [
      "y = x1 * -873349.4149664732 + x2 * 46875.99964482609 + -93089360.68494889\n"
     ]
    }
   ],
   "source": [
    "#Model C\n",
    "model_c = linear_model.LinearRegression()\n",
    "x_train_case_2c= train_case_2[most_correlated]\n",
    "y_train_case_2c = train_case_2['selling_price']\n",
    "x_test_case_2c= test_case_2[most_correlated]\n",
    "y_test_case_2c = test_case_2['selling_price']\n",
    "reg.fit(x_train_case_2c, y_train_case_2c)\n",
    "print(\"y = x1 *\", reg.coef_[0], \"+ x2 *\",reg.coef_[1],\"+\", reg.intercept_)\n",
    "\n",
    "train_case_2c_pred =reg.predict(x_train_case_2c)\n",
    "test_case_2c_pred = reg.predict(x_test_case_2c)\n",
    "\n"
   ]
  },
  {
   "cell_type": "code",
   "execution_count": 250,
   "id": "28c6241b-f688-4ca1-aa7e-de94dc223357",
   "metadata": {},
   "outputs": [
    {
     "name": "stdout",
     "output_type": "stream",
     "text": [
      "y = x1 * -159106.58621657363 + x2 * -1.4095951629238914 + 655857.9301921412\n"
     ]
    }
   ],
   "source": [
    "#Model D\n",
    "model_d = linear_model.LinearRegression()\n",
    "x_train_case_2d= train_case_2[least_correlated]\n",
    "y_train_case_2d = train_case_2['selling_price']\n",
    "x_test_case_2d= test_case_2[least_correlated]\n",
    "y_test_case_2d = test_case_2['selling_price']\n",
    "reg.fit(x_train_case_2d, y_train_case_2d)\n",
    "print(\"y = x1 *\", reg.coef_[0], \"+ x2 *\",reg.coef_[1],\"+\", reg.intercept_)\n",
    "\n",
    "train_case_2d_pred =reg.predict(x_train_case_2d)\n",
    "test_case_2d_pred = reg.predict(x_test_case_2d)\n",
    "\n"
   ]
  },
  {
   "cell_type": "markdown",
   "id": "uIHDIRCYklO_",
   "metadata": {
    "id": "uIHDIRCYklO_"
   },
   "source": [
    "### Q5: Evaluate Models\n",
    "* Evaluate the performance of the four models with two metrics, including MSE and Root MSE\n",
    "* Print the results of the four models regarding the two metrics"
   ]
  },
  {
   "cell_type": "code",
   "execution_count": 205,
   "id": "61621c39",
   "metadata": {},
   "outputs": [
    {
     "name": "stdout",
     "output_type": "stream",
     "text": [
      "Model A Training MSE: 205686709569.31143\n",
      "Model A Training Root MSE: 453526.96674984106\n",
      "Model A Training R Squared: 0.4682018622012789\n",
      "Model A Test MSE: 196798886091.6768\n",
      "Model A Test Root MSE: 443620.2047829616\n",
      "Model A Test R Squared: 0.3499469902988702\n"
     ]
    }
   ],
   "source": [
    "print('Model A Training MSE:',mean_squared_error(y_train_case_1a,train_case_1a_pred))\n",
    "print('Model A Training Root MSE:',math.sqrt(mean_squared_error(y_train_case_1a,train_case_1a_pred)))\n",
    "print('Model A Training R Squared:',r2_score(y_train_case_1a,train_case_1a_pred))\n",
    "\n",
    "print('Model A Test MSE:',mean_squared_error(y_test_case_1a,test_case_1a_pred))\n",
    "print('Model A Test Root MSE:',math.sqrt(mean_squared_error(y_test_case_1a,test_case_1a_pred)))\n",
    "print('Model A Test R Squared:',r2_score(y_test_case_1a,test_case_1a_pred))"
   ]
  },
  {
   "cell_type": "code",
   "execution_count": 207,
   "id": "d48d67e0-cd43-4547-87e5-5046c77985e3",
   "metadata": {},
   "outputs": [
    {
     "name": "stdout",
     "output_type": "stream",
     "text": [
      "Model B Training MSE: 356617064277.997\n",
      "Model B Training Root MSE: 597174.232764607\n",
      "Model B Training R Squared: 0.07797498881968956\n",
      "Model B Test MSE: 292715789614.6963\n",
      "Model B Test Root MSE: 541032.152108076\n",
      "Model B Test R Squared: 0.033120645116682\n"
     ]
    }
   ],
   "source": [
    "print('Model B Training MSE:',mean_squared_error(y_train_case_1b,train_case_1b_pred))\n",
    "print('Model B Training Root MSE:',math.sqrt(mean_squared_error(y_train_case_1b,train_case_1b_pred)))\n",
    "print('Model B Training R Squared:',r2_score(y_train_case_1b,train_case_1b_pred))\n",
    "\n",
    "print('Model B Test MSE:',mean_squared_error(y_test_case_1b,test_case_1b_pred))\n",
    "print('Model B Test Root MSE:',math.sqrt(mean_squared_error(y_test_case_1b,test_case_1b_pred)))\n",
    "print('Model B Test R Squared:',r2_score(y_test_case_1b,test_case_1b_pred))"
   ]
  },
  {
   "cell_type": "code",
   "execution_count": 209,
   "id": "cd4cad92-d2ae-4702-a6e0-8d44632c7d99",
   "metadata": {},
   "outputs": [
    {
     "name": "stdout",
     "output_type": "stream",
     "text": [
      "Model C Training MSE: 194779853922.9337\n",
      "Model C Training Root MSE: 441338.70657685766\n",
      "Model C Training R Squared: 0.38714185302913284\n",
      "Model C Test MSE: 149898364537.47766\n",
      "Model C Test Root MSE: 387167.1015691773\n",
      "Model C Test R Squared: 0.4040398435674952\n"
     ]
    }
   ],
   "source": [
    "print('Model C Training MSE:',mean_squared_error(y_train_case_2c,train_case_2c_pred))\n",
    "print('Model C Training Root MSE:',math.sqrt(mean_squared_error(y_train_case_2c,train_case_2c_pred)))\n",
    "print('Model C Training R Squared:',r2_score(y_train_case_2c,train_case_2c_pred))\n",
    "\n",
    "print('Model C Test MSE:',mean_squared_error(y_test_case_2c,test_case_2c_pred))\n",
    "print('Model C Test Root MSE:',math.sqrt(mean_squared_error(y_test_case_2c,test_case_2c_pred)))\n",
    "print('Model C Test R Squared:',r2_score(y_test_case_2c,test_case_2c_pred))"
   ]
  },
  {
   "cell_type": "code",
   "execution_count": 211,
   "id": "3a97ba8b-359c-4528-9648-496d5ab3ea7c",
   "metadata": {},
   "outputs": [
    {
     "name": "stdout",
     "output_type": "stream",
     "text": [
      "Model D Training MSE: 299365728362.4965\n",
      "Model D Training Root MSE: 547143.2430017723\n",
      "Model D Training R Squared: 0.05807134641648015\n",
      "Model D Test MSE: 241892693210.42822\n",
      "Model D Test Root MSE: 491825.8769223395\n",
      "Model D Test R Squared: 0.038292327402116855\n"
     ]
    }
   ],
   "source": [
    "print('Model D Training MSE:',mean_squared_error(y_train_case_2d,train_case_2d_pred))\n",
    "print('Model D Training Root MSE:',math.sqrt(mean_squared_error(y_train_case_2d,train_case_2d_pred)))\n",
    "print('Model D Training R Squared:',r2_score(y_train_case_2d,train_case_2d_pred))\n",
    "\n",
    "print('Model D Test MSE:',mean_squared_error(y_test_case_2d,test_case_2d_pred))\n",
    "print('Model D Test Root MSE:',math.sqrt(mean_squared_error(y_test_case_2d,test_case_2d_pred)))\n",
    "print('Model D Test R Squared:',r2_score(y_test_case_2d,test_case_2d_pred))"
   ]
  },
  {
   "cell_type": "markdown",
   "id": "6wmgPAzpklPA",
   "metadata": {
    "id": "6wmgPAzpklPA"
   },
   "source": [
    "### Q6: Visualize, Compare and Analyze the Results\n",
    "* Visulize the results, and perform ___insightful analysis___ on the obtained results. For better visualization, you may need to carefully set the scale for the y-axis.\n",
    "* Normally, the model trained with most correlated features and more training data will get better results. Do you obtain the similar observations? If not, please ___explain the possible reasons___."
   ]
  },
  {
   "cell_type": "code",
   "execution_count": 252,
   "id": "u0dpqTCmklPA",
   "metadata": {
    "id": "u0dpqTCmklPA"
   },
   "outputs": [],
   "source": [
    "#sort the answers into variables to plot it through mathplotlib\n",
    "\n",
    "models = ['Model A', 'Model B', 'Model C', 'Model D']\n",
    "train_mse = [205686709569.31143, 356617064277.997, 194779853922.9337, 299365728362.4965]\n",
    "train_rmse = [453526.96674984106, 597174.232764607, 441338.70657685766, 547143.2430017723]\n",
    "train_r2 = [0.4682018622012789, 0.07797498881968956, 0.38714185302913284, 0.05807134641648015]\n",
    "\n",
    "test_mse = [196798886091.6768, 292715789614.6963, 149898364537.47766, 241892693210.42822]\n",
    "test_rmse = [443620.2047829616, 541032.152108076, 387167.1015691773, 491825.8769223395]\n",
    "test_r2 = [0.3499469902988702, 0.033120645116682, 0.4040398435674952, 0.038292327402116855]"
   ]
  },
  {
   "cell_type": "code",
   "execution_count": 281,
   "id": "45b9cb25-d2d8-42f0-b905-041cecb18878",
   "metadata": {},
   "outputs": [
    {
     "data": {
      "text/plain": [
       "<matplotlib.legend.Legend at 0x17ef85670>"
      ]
     },
     "execution_count": 281,
     "metadata": {},
     "output_type": "execute_result"
    },
    {
     "data": {
      "image/png": "[encoded data removed]",
      "text/plain": [
       "<Figure size 640x480 with 1 Axes>"
      ]
     },
     "metadata": {},
     "output_type": "display_data"
    }
   ],
   "source": [
    "## plt.figure(figsize=(8, 4))\n",
    "plt.plot(models, train_r2, label='Training R2', marker = 'o', color='blue')\n",
    "plt.plot(models, test_r2, label='Test R2', marker = 'o', color='red')\n",
    "\n",
    "plt.xlabel('Model')\n",
    "plt.ylabel('R2')\n",
    "plt.title('Training and Test R2 for Each Model')\n",
    "plt.legend()"
   ]
  },
  {
   "cell_type": "code",
   "execution_count": 286,
   "id": "238c2d1a-56a5-4a9b-a896-29f147da8fe3",
   "metadata": {},
   "outputs": [
    {
     "data": {
      "text/plain": [
       "<matplotlib.legend.Legend at 0x17ef98470>"
      ]
     },
     "execution_count": 286,
     "metadata": {},
     "output_type": "execute_result"
    },
    {
     "data": {
      "image/png": "[encoded data removed]",
      "text/plain": [
       "<Figure size 800x400 with 1 Axes>"
      ]
     },
     "metadata": {},
     "output_type": "display_data"
    }
   ],
   "source": [
    "plt.figure(figsize=(8, 4))\n",
    "plt.plot(models, train_rmse, marker='o', label='Training RMSE', color='blue')\n",
    "plt.plot(models, test_rmse, marker='o', label='Test RMSE', color='red')\n",
    "plt.xlabel('Model')\n",
    "plt.ylabel('RMSE')\n",
    "plt.title('Training and Test RMSE for Each Model')\n",
    "plt.legend()"
   ]
  },
  {
   "cell_type": "markdown",
   "id": "1892e10c-aaf8-482e-b459-5dfb53beec37",
   "metadata": {},
   "source": [
    "#### Regression Model Analysis :   \n",
    "I have trained 4 different regression models (Model A, B, C and D) where A and B have been trained on 10% of the whole dataset and conducted tests on the remainder of the 90% while models C and D are trained on 90% of the data and tested for accuracy on the remainder of the 10%. Furthermore, models A and C have been trained using transmission and year features; the two features with the highest correlation with selling price. Models B and D are trained using kilometres driven and owner features as they are the least correlated features in relation to selling price. i used these models to find out the **Mean Squared Error (MSE)** , **Root of Mean Squared Error (RMSE)** and the **$R^2$** values of all the 4 models and plotted them on line graphs for better visualisation of the data.  \n",
    "\n",
    "**MSE** measures the average squared difference between the actual and predicted MPG values. Lower MSE indicates better model performance. As the MSE values were really high, I had to calculate the RMSE to scale down the numbers for better understanding. The line graph for training and test RMSE values for all four models depict that model C has the lowest training and test RMSE out of all the 4 models followed by model A. This could be due to the fact that model C was trained o 90% of the data and is also trained on the most correlated features thus making up the most robust predictor out of the four models. Model A is a close second due to it being trained on only 10% of the data. on the other hand, the RMSE for Models B and D is high, indicating that the models perform poorly on the data. This reinforces the  assumption that  models, using less correlated features, do not predict well.\n",
    "\n",
    "\n",
    "**$R^2$** indicates how well the independent variables explain the variability in the dependent variable (selling_price). An $R^2$ score closer to 1 means a better fit. When $R^2$ is multiplied by 100, it gives us the percentage of how much of the dependant variable's value can be explained by the independent features of the model e.g transmission and year. The line plot above compares the $R^2$ values of each of the 4 models and the superiority of models A and C can be observed. The training $R^2$ value of model A is better than rest of the models but model C's test $R^2$ value shows that it generalizes to unseen data better than any other model. Models B and D have much lower $R^2$ values in comparision. The common factor between these models and the reason they have low $R^2$ values is attributed to the fact that they are trained on least correlated features and do not explain much of the variance in selling price. \n",
    "\n",
    "Normally, we would expect models trained on features most correlated with the dependant variable to perform better, and this is exactly the case in this excersise as well. Models trained on ample data perform well in general compared to models trained on little data (model C,D vs model A,B) and models trained on highly correlated features perform well against models with less correlated features (Model A,C vs Model B,D). These findings demonstrate how using relevant features and enough training data cam help build accurate predictive models. Correct selection and a large enough training set can help better a model's ability to predict outcomes."
   ]
  },
  {
   "cell_type": "markdown",
   "id": "f97796c2",
   "metadata": {},
   "source": [
    "### Q7: Data Science Ethics\n",
    "*Please read the following examples [Click here to read the example_1.](https://www.vox.com/covid-19-coronavirus-us-response-trump/2020/5/18/21262265/georgia-covid-19-cases-declining-reopening) [Click here to read the example_2.](https://viborc.com/ethics-and-ethical-data-visualization-a-complete-guide/)\n",
    "\n",
    "*Then view the picture ![My Image](figure_portfolio2.png \"This is my image\")\n",
    "Please compose an analysis of 100-200 words that evaluates potential ethical concerns associated with the infographic, detailing the reasons behind these issues.\n"
   ]
  },
  {
   "cell_type": "markdown",
   "id": "c2439ab1-4b15-4f71-b31d-7a061464c09a",
   "metadata": {},
   "source": [
    "##### Analysis:  \n",
    "\n",
    "The infographics above that shows the medal counts for the 2008 Beijing Olympics. Table 1 has the countries sorted by total number of medals and table 2 has the countries sorted by the number of gold medals. These tables are shown without any context and thus raise ethical concerns due to inconsistent data presentation. The Vox article on Georgia's COVID-19 data highlights similar issues where data presentation can mislead the public. For example, Georgia was criticized for presenting data that suggested declining COVID-19 cases, possibly influencing public perception and government decisions. This shows how visualizations without clear context or consistency can mislead.  \n",
    "\n",
    "The Viborc article emphasizes that ethical data visualization requires clarity, context, and fairness. In the case of the Olympic medal infographic, sorting by different criteria without explanation can create confusion. This inconsistency can influence how viewers interpret the data, such as favoring one country over another based on the sorting method. The article stresses that data should be presented transparently, avoiding any manipulation that could lead to misleading conclusions.  \n",
    "\n",
    "Just like misleading COVID-19 data presentations can have serious public health issues, improperly formatted sports data can skew public perception of a country's athletic performance."
   ]
  }
 ],
 "metadata": {
  "colab": {
   "provenance": []
  },
  "kernelspec": {
   "display_name": "Python 3 (ipykernel)",
   "language": "python",
   "name": "python3"
  },
  "language_info": {
   "codemirror_mode": {
    "name": "ipython",
    "version": 3
   },
   "file_extension": ".py",
   "mimetype": "text/x-python",
   "name": "python",
   "nbconvert_exporter": "python",
   "pygments_lexer": "ipython3",
   "version": "3.12.4"
  }
 },
 "nbformat": 4,
 "nbformat_minor": 5
}
